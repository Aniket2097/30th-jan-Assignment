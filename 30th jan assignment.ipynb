{
 "cells": [
  {
   "cell_type": "code",
   "execution_count": 11,
   "id": "4ac3c4ab-0960-4dfb-abee-f1cc426a4497",
   "metadata": {},
   "outputs": [
    {
     "name": "stdin",
     "output_type": "stream",
     "text": [
      "enter your marks 68\n"
     ]
    },
    {
     "name": "stdout",
     "output_type": "stream",
     "text": [
      "Grade c\n"
     ]
    }
   ],
   "source": [
    "Ans1:\n",
    "marks = int(input('enter your marks'))\n",
    "\n",
    "if marks > 90 :\n",
    "    print ('Grade A')\n",
    "elif marks > 80 and marks <= 90:\n",
    "    print('Grade B')\n",
    "elif marks >= 60 and marks <= 80:\n",
    "    print('Grade c')\n",
    "else:\n",
    "    print('Grade D')"
   ]
  },
  {
   "cell_type": "code",
   "execution_count": 10,
   "id": "d6b671b7-a4d3-47ec-8185-7f0e285a0e00",
   "metadata": {},
   "outputs": [
    {
     "name": "stdin",
     "output_type": "stream",
     "text": [
      "enter cost price of your website 10000\n"
     ]
    },
    {
     "name": "stdout",
     "output_type": "stream",
     "text": [
      "5% tax to be paid\n"
     ]
    }
   ],
   "source": [
    "Ans2:\n",
    "Cost_Price = int(input('enter cost price of your website'))\n",
    "\n",
    "if Cost_Price > 100000:\n",
    "    print('15% Tax to be paid')\n",
    "elif Cost_Price > 50000 and Cost_Price <= 100000:\n",
    "    print('10% Tax to be paid')\n",
    "else :\n",
    "    print('5% tax to be paid')"
   ]
  },
  {
   "cell_type": "code",
   "execution_count": 5,
   "id": "6352f503-4230-452f-a875-d69bb643b978",
   "metadata": {},
   "outputs": [
    {
     "name": "stdin",
     "output_type": "stream",
     "text": [
      "enter the city name Agra\n"
     ]
    },
    {
     "name": "stdout",
     "output_type": "stream",
     "text": [
      "Taj Mahal\n"
     ]
    }
   ],
   "source": [
    "Ans3:\n",
    "name = input(\"enter the city name\")\n",
    "if name == \"Delhi\" :\n",
    "    print (\"Red Fort\")\n",
    "elif name == \"Agra\":\n",
    "    print (\"Taj Mahal\")\n",
    "elif name == \"Jaipur\":\n",
    "    print(\"Jal Mahal\")"
   ]
  },
  {
   "cell_type": "code",
   "execution_count": 8,
   "id": "9ae6eff2-11cf-49a5-b3b6-f8b866e860be",
   "metadata": {},
   "outputs": [
    {
     "name": "stdin",
     "output_type": "stream",
     "text": [
      "enter a number 9\n"
     ]
    },
    {
     "name": "stdout",
     "output_type": "stream",
     "text": [
      "Times it divided by 3 is  0\n"
     ]
    }
   ],
   "source": [
    "Ans4:\n",
    "n = int(input('enter a number'))\n",
    "count = 0 \n",
    "while(n >10 ):\n",
    "    \n",
    "    n = n/3 \n",
    "    count +=1\n",
    "print('Times it divided by 3 is ',count)"
   ]
  },
  {
   "cell_type": "code",
   "execution_count": null,
   "id": "a7ce8004-ead2-48ae-85e5-ac316edbd76c",
   "metadata": {},
   "outputs": [],
   "source": [
    "Ans5:\n",
    " While loop in python is used to run a block of code until a \n",
    "    certain condition is met . when a certain condition \n",
    "    is met the loop terminates.\n",
    "    \n",
    "example :\n",
    "    count = 0\n",
    "    while count < 5 :\n",
    "        print('Hello G')\n",
    "        Count+=1"
   ]
  },
  {
   "cell_type": "code",
   "execution_count": 14,
   "id": "c17dd815-d72a-4f78-8096-cea0b20e5856",
   "metadata": {},
   "outputs": [
    {
     "name": "stdin",
     "output_type": "stream",
     "text": [
      "enter no. of rows 3\n"
     ]
    },
    {
     "name": "stdout",
     "output_type": "stream",
     "text": [
      "*  \n",
      "* *  \n",
      "* * *  \n"
     ]
    }
   ],
   "source": [
    "Ans6:\n",
    "row = int(input('enter no. of rows'))\n",
    "i = 1\n",
    "while i <= row:\n",
    "    j =1\n",
    "    while j <= i :\n",
    "        print('*' , end = ' ')\n",
    "        j = j+1\n",
    "    print(' ')\n",
    "    i+=1"
   ]
  },
  {
   "cell_type": "code",
   "execution_count": 15,
   "id": "b20fa7c1-57f3-4925-966a-814b1513c627",
   "metadata": {},
   "outputs": [
    {
     "name": "stdout",
     "output_type": "stream",
     "text": [
      "10\n",
      "9\n",
      "8\n",
      "7\n",
      "6\n",
      "5\n",
      "4\n",
      "3\n",
      "2\n",
      "1\n"
     ]
    }
   ],
   "source": [
    "Ans7:\n",
    "n = 10 \n",
    "while(n > 0):\n",
    "    print (n)\n",
    "    n -=1"
   ]
  },
  {
   "cell_type": "code",
   "execution_count": null,
   "id": "a18b45ee-8fdf-47c0-b5b8-8597b188f370",
   "metadata": {},
   "outputs": [],
   "source": []
  },
  {
   "cell_type": "code",
   "execution_count": null,
   "id": "b9151e15-400f-4232-bc23-9c6ca2c4aae3",
   "metadata": {},
   "outputs": [],
   "source": []
  },
  {
   "cell_type": "code",
   "execution_count": null,
   "id": "69665c2e-6b1b-4de9-aaa1-74e36dcfca43",
   "metadata": {},
   "outputs": [],
   "source": []
  }
 ],
 "metadata": {
  "kernelspec": {
   "display_name": "Python 3 (ipykernel)",
   "language": "python",
   "name": "python3"
  },
  "language_info": {
   "codemirror_mode": {
    "name": "ipython",
    "version": 3
   },
   "file_extension": ".py",
   "mimetype": "text/x-python",
   "name": "python",
   "nbconvert_exporter": "python",
   "pygments_lexer": "ipython3",
   "version": "3.10.8"
  }
 },
 "nbformat": 4,
 "nbformat_minor": 5
}
